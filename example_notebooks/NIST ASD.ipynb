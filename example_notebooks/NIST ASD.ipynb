{
 "cells": [
  {
   "cell_type": "markdown",
   "id": "2500380b-35e8-4162-9d4f-fe08afe828f0",
   "metadata": {},
   "source": [
    "__Created By:__ Autumn Stephens <br>\n",
    "__Creation Date:__ 3/31/2025 <br>\n",
    "__Last Updated:__ 4/2/2025 <br>"
   ]
  },
  {
   "cell_type": "code",
   "execution_count": 2,
   "id": "8de819c4-cc43-4a78-bc25-f689e2af99b8",
   "metadata": {},
   "outputs": [],
   "source": [
    "### Necessary imports\n",
    "import matplotlib.pyplot as plt\n",
    "import astropy.units as u\n",
    "import periodictable\n",
    "import pandas as pd\n",
    "import numpy as np\n",
    "import roman\n",
    "\n",
    "### Imports tools\n",
    "import ASDtools as asdt"
   ]
  },
  {
   "cell_type": "markdown",
   "id": "30836090-a98a-428d-9259-42612bdb16e1",
   "metadata": {},
   "source": [
    "# ___About ASDtools___\n",
    "\n",
    "This package relies heavily on __[astroquery.nist](https://astroquery.readthedocs.io/en/latest/nist/nist.html)__'s querying capabilities for loading spectral data for a given element over a range of wavelengths. The main advantage of __ASDtools__ is its ability to format astroquery's default output into a formatted DataFrame. Additionally, I have made a handful of helpful tools for visualizing several pieces of the NIST ASD. This __ASDtools__'s primary goal is to help users understand and visualize standard conventions in atomic spectroscopy.\n",
    "\n",
    "__NOTE:__ As of writing (March 31, 2025), __[reports have surfaced that the NIST ASD is expected to go offline](https://www.wired.com/story/nist-doge-layoffs-atomic-spectroscopy/)__. If the database is unavailable for querying, compressed files containing the entire database have been saved and uploaded to this GitHub repository. I will modify the behavior of __ASDtools__ to use this data as a backup."
   ]
  },
  {
   "cell_type": "markdown",
   "id": "f7b420ab-4f31-4d06-b955-bc695eb19850",
   "metadata": {},
   "source": [
    "# ___Basic Usage (How to Query)___\n",
    "Since __ASDtools__ uses __astroquery.nist__ to pull its data, it takes the same arguments. However, __ASDtools__ uses a class-based data structure to store and modify NIST ASD data. You must create a new \"NIST_lines\" instance to initialize a query. This initialization takes the same arguments as __astroquery.nist__ (w/ two additional parameters we will discuss later)..."
   ]
  },
  {
   "cell_type": "code",
   "execution_count": 5,
   "id": "cf5e5862-b0c7-4a73-9bf7-f38e3d9cf16d",
   "metadata": {},
   "outputs": [
    {
     "name": "stderr",
     "output_type": "stream",
     "text": [
      "Loading NIST ASD Data: 100%|█████████████████████| 2/2 [00:00<00:00, 226.24it/s]\n",
      "Filtering out flags: 100%|███████████████████████| 8/8 [00:00<00:00, 948.21it/s]\n"
     ]
    },
    {
     "data": {
      "text/html": [
       "<div>\n",
       "<style scoped>\n",
       "    .dataframe tbody tr th:only-of-type {\n",
       "        vertical-align: middle;\n",
       "    }\n",
       "\n",
       "    .dataframe tbody tr th {\n",
       "        vertical-align: top;\n",
       "    }\n",
       "\n",
       "    .dataframe thead th {\n",
       "        text-align: right;\n",
       "    }\n",
       "</style>\n",
       "<table border=\"1\" class=\"dataframe\">\n",
       "  <thead>\n",
       "    <tr style=\"text-align: right;\">\n",
       "      <th></th>\n",
       "      <th>Element</th>\n",
       "      <th>Observed (nm)</th>\n",
       "      <th>Ritz (nm)</th>\n",
       "      <th>Transition Type</th>\n",
       "      <th>Rel.</th>\n",
       "      <th>Ei (eV)</th>\n",
       "      <th>Ek (eV)</th>\n",
       "      <th>Aki</th>\n",
       "      <th>gi</th>\n",
       "      <th>gk</th>\n",
       "      <th>S</th>\n",
       "      <th>Acc.</th>\n",
       "      <th>Lower level</th>\n",
       "      <th>Upper level</th>\n",
       "    </tr>\n",
       "  </thead>\n",
       "  <tbody>\n",
       "    <tr>\n",
       "      <th>0</th>\n",
       "      <td>He I</td>\n",
       "      <td>301.4600</td>\n",
       "      <td>301.459000</td>\n",
       "      <td>E1</td>\n",
       "      <td>40.0</td>\n",
       "      <td>59.673780</td>\n",
       "      <td>63.786580</td>\n",
       "      <td>NaN</td>\n",
       "      <td>9.0</td>\n",
       "      <td>15.0</td>\n",
       "      <td>NaN</td>\n",
       "      <td></td>\n",
       "      <td>2p2    | 3P   | 0,1,2</td>\n",
       "      <td>2p.3d  | 3D*  | 1,2,3</td>\n",
       "    </tr>\n",
       "    <tr>\n",
       "      <th>1</th>\n",
       "      <td>He I</td>\n",
       "      <td>NaN</td>\n",
       "      <td>318.865493</td>\n",
       "      <td>E1</td>\n",
       "      <td>NaN</td>\n",
       "      <td>19.819615</td>\n",
       "      <td>23.707906</td>\n",
       "      <td>5636100.0</td>\n",
       "      <td>3.0</td>\n",
       "      <td>1.0</td>\n",
       "      <td>0.000090</td>\n",
       "      <td>AAA</td>\n",
       "      <td>1s.2s  | 3S   | 1</td>\n",
       "      <td>1s.4p  | 3P*  | 0</td>\n",
       "    </tr>\n",
       "    <tr>\n",
       "      <th>2</th>\n",
       "      <td>He I</td>\n",
       "      <td>318.8667</td>\n",
       "      <td>318.866615</td>\n",
       "      <td>E1</td>\n",
       "      <td>20.0</td>\n",
       "      <td>19.819615</td>\n",
       "      <td>23.707892</td>\n",
       "      <td>5636100.0</td>\n",
       "      <td>3.0</td>\n",
       "      <td>3.0</td>\n",
       "      <td>0.000271</td>\n",
       "      <td>AAA</td>\n",
       "      <td>1s.2s  | 3S   | 1</td>\n",
       "      <td>1s.4p  | 3P*  | 1</td>\n",
       "    </tr>\n",
       "    <tr>\n",
       "      <th>3</th>\n",
       "      <td>He I</td>\n",
       "      <td>318.8667</td>\n",
       "      <td>318.866706</td>\n",
       "      <td>E1</td>\n",
       "      <td>20.0</td>\n",
       "      <td>19.819615</td>\n",
       "      <td>23.707891</td>\n",
       "      <td>5636100.0</td>\n",
       "      <td>3.0</td>\n",
       "      <td>5.0</td>\n",
       "      <td>0.000451</td>\n",
       "      <td>AAA</td>\n",
       "      <td>1s.2s  | 3S   | 1</td>\n",
       "      <td>1s.4p  | 3P*  | 2</td>\n",
       "    </tr>\n",
       "    <tr>\n",
       "      <th>4</th>\n",
       "      <td>He I</td>\n",
       "      <td>323.2199</td>\n",
       "      <td>323.220316</td>\n",
       "      <td>E1</td>\n",
       "      <td>0.0</td>\n",
       "      <td>20.615775</td>\n",
       "      <td>24.451678</td>\n",
       "      <td>510150.0</td>\n",
       "      <td>1.0</td>\n",
       "      <td>3.0</td>\n",
       "      <td>0.000026</td>\n",
       "      <td>AAA</td>\n",
       "      <td>1s.2s  | 1S   | 0</td>\n",
       "      <td>1s.10p | 1P*  | 1</td>\n",
       "    </tr>\n",
       "    <tr>\n",
       "      <th>...</th>\n",
       "      <td>...</td>\n",
       "      <td>...</td>\n",
       "      <td>...</td>\n",
       "      <td>...</td>\n",
       "      <td>...</td>\n",
       "      <td>...</td>\n",
       "      <td>...</td>\n",
       "      <td>...</td>\n",
       "      <td>...</td>\n",
       "      <td>...</td>\n",
       "      <td>...</td>\n",
       "      <td>...</td>\n",
       "      <td>...</td>\n",
       "      <td>...</td>\n",
       "    </tr>\n",
       "    <tr>\n",
       "      <th>202</th>\n",
       "      <td>He II</td>\n",
       "      <td>NaN</td>\n",
       "      <td>656.199696</td>\n",
       "      <td>E1</td>\n",
       "      <td>NaN</td>\n",
       "      <td>51.016797</td>\n",
       "      <td>52.906225</td>\n",
       "      <td>21979000.0</td>\n",
       "      <td>8.0</td>\n",
       "      <td>10.0</td>\n",
       "      <td>0.030651</td>\n",
       "      <td>AA</td>\n",
       "      <td>4f     | 2F*  | 7/2</td>\n",
       "      <td>6g     | 2G   | 9/2</td>\n",
       "    </tr>\n",
       "    <tr>\n",
       "      <th>203</th>\n",
       "      <td>He II</td>\n",
       "      <td>NaN</td>\n",
       "      <td>656.200038</td>\n",
       "      <td>E1</td>\n",
       "      <td>NaN</td>\n",
       "      <td>51.016782</td>\n",
       "      <td>52.906209</td>\n",
       "      <td>343510.0</td>\n",
       "      <td>6.0</td>\n",
       "      <td>4.0</td>\n",
       "      <td>0.000192</td>\n",
       "      <td>AA</td>\n",
       "      <td>4f     | 2F*  | 5/2</td>\n",
       "      <td>6d     | 2D   | 3/2</td>\n",
       "    </tr>\n",
       "    <tr>\n",
       "      <th>204</th>\n",
       "      <td>He II</td>\n",
       "      <td>NaN</td>\n",
       "      <td>656.200041</td>\n",
       "      <td>E1</td>\n",
       "      <td>NaN</td>\n",
       "      <td>51.016782</td>\n",
       "      <td>52.906209</td>\n",
       "      <td>1357200.0</td>\n",
       "      <td>6.0</td>\n",
       "      <td>4.0</td>\n",
       "      <td>0.000757</td>\n",
       "      <td>AA</td>\n",
       "      <td>4d     | 2D   | 5/2</td>\n",
       "      <td>6p     | 2P*  | 3/2</td>\n",
       "    </tr>\n",
       "    <tr>\n",
       "      <th>205</th>\n",
       "      <td>He II</td>\n",
       "      <td>NaN</td>\n",
       "      <td>656.200630</td>\n",
       "      <td>E1</td>\n",
       "      <td>NaN</td>\n",
       "      <td>51.016797</td>\n",
       "      <td>52.906222</td>\n",
       "      <td>784970.0</td>\n",
       "      <td>8.0</td>\n",
       "      <td>8.0</td>\n",
       "      <td>0.000876</td>\n",
       "      <td>AA</td>\n",
       "      <td>4f     | 2F*  | 7/2</td>\n",
       "      <td>6g     | 2G   | 7/2</td>\n",
       "    </tr>\n",
       "    <tr>\n",
       "      <th>206</th>\n",
       "      <td>He II</td>\n",
       "      <td>NaN</td>\n",
       "      <td>656.202178</td>\n",
       "      <td>E1</td>\n",
       "      <td>NaN</td>\n",
       "      <td>51.016797</td>\n",
       "      <td>52.906218</td>\n",
       "      <td>327120.0</td>\n",
       "      <td>8.0</td>\n",
       "      <td>6.0</td>\n",
       "      <td>0.000274</td>\n",
       "      <td>AA</td>\n",
       "      <td>4f     | 2F*  | 7/2</td>\n",
       "      <td>6d     | 2D   | 5/2</td>\n",
       "    </tr>\n",
       "  </tbody>\n",
       "</table>\n",
       "<p>207 rows × 14 columns</p>\n",
       "</div>"
      ],
      "text/plain": [
       "    Element  Observed (nm)   Ritz (nm) Transition Type  Rel.    Ei (eV)  \\\n",
       "0      He I       301.4600  301.459000              E1  40.0  59.673780   \n",
       "1      He I            NaN  318.865493              E1   NaN  19.819615   \n",
       "2      He I       318.8667  318.866615              E1  20.0  19.819615   \n",
       "3      He I       318.8667  318.866706              E1  20.0  19.819615   \n",
       "4      He I       323.2199  323.220316              E1   0.0  20.615775   \n",
       "..      ...            ...         ...             ...   ...        ...   \n",
       "202   He II            NaN  656.199696              E1   NaN  51.016797   \n",
       "203   He II            NaN  656.200038              E1   NaN  51.016782   \n",
       "204   He II            NaN  656.200041              E1   NaN  51.016782   \n",
       "205   He II            NaN  656.200630              E1   NaN  51.016797   \n",
       "206   He II            NaN  656.202178              E1   NaN  51.016797   \n",
       "\n",
       "       Ek (eV)         Aki   gi    gk         S Acc.            Lower level  \\\n",
       "0    63.786580         NaN  9.0  15.0       NaN       2p2    | 3P   | 0,1,2   \n",
       "1    23.707906   5636100.0  3.0   1.0  0.000090  AAA      1s.2s  | 3S   | 1   \n",
       "2    23.707892   5636100.0  3.0   3.0  0.000271  AAA      1s.2s  | 3S   | 1   \n",
       "3    23.707891   5636100.0  3.0   5.0  0.000451  AAA      1s.2s  | 3S   | 1   \n",
       "4    24.451678    510150.0  1.0   3.0  0.000026  AAA      1s.2s  | 1S   | 0   \n",
       "..         ...         ...  ...   ...       ...  ...                    ...   \n",
       "202  52.906225  21979000.0  8.0  10.0  0.030651   AA    4f     | 2F*  | 7/2   \n",
       "203  52.906209    343510.0  6.0   4.0  0.000192   AA    4f     | 2F*  | 5/2   \n",
       "204  52.906209   1357200.0  6.0   4.0  0.000757   AA    4d     | 2D   | 5/2   \n",
       "205  52.906222    784970.0  8.0   8.0  0.000876   AA    4f     | 2F*  | 7/2   \n",
       "206  52.906218    327120.0  8.0   6.0  0.000274   AA    4f     | 2F*  | 7/2   \n",
       "\n",
       "               Upper level  \n",
       "0    2p.3d  | 3D*  | 1,2,3  \n",
       "1        1s.4p  | 3P*  | 0  \n",
       "2        1s.4p  | 3P*  | 1  \n",
       "3        1s.4p  | 3P*  | 2  \n",
       "4        1s.10p | 1P*  | 1  \n",
       "..                     ...  \n",
       "202    6g     | 2G   | 9/2  \n",
       "203    6d     | 2D   | 3/2  \n",
       "204    6p     | 2P*  | 3/2  \n",
       "205    6g     | 2G   | 7/2  \n",
       "206    6d     | 2D   | 5/2  \n",
       "\n",
       "[207 rows x 14 columns]"
      ]
     },
     "execution_count": 5,
     "metadata": {},
     "output_type": "execute_result"
    }
   ],
   "source": [
    "lines = asdt.NIST_lines([\"He I\", \"He II\"], \n",
    "                        lower_wavelength=3000*u.AA, \n",
    "                        upper_wavelength=9000*u.AA)\n",
    "lines.df"
   ]
  },
  {
   "cell_type": "markdown",
   "id": "335dcbb3-94d6-472a-b0a5-afa2271b98a7",
   "metadata": {},
   "source": [
    "Notice how...\n",
    "\n",
    "- Certain column names have explicitly stated units (for ease of use)\n",
    "- Numeric columns (i.e., \"Observed (nm),\" \"Aki,\" etc.) now have NaN values instead of empty strings\n",
    "- Some columns w/ multiple pieces of data have been split up (i.e., \"Ei (eV)\" and \"Ek (eV)\")\n",
    "- Empty entries in the \"Transition Type\" column now have an explicit type\n",
    "- Numeric columns no longer contain non-numeric characters (see description of \"flags\")\n",
    "\n",
    "These changes reflect some of the struggles I faced when working with data from NIST's ASD. I hope to improve the readability and usefulness of __ASDtools__ in future iterations."
   ]
  },
  {
   "cell_type": "markdown",
   "id": "ed0c0083-46d1-4aca-acb6-4c8eb204812d",
   "metadata": {},
   "source": [
    "# ___Understanding the Formatted Dataframe___\n",
    "\n",
    "The default DataFrame produced by __ASDtools__ has 14 columns...\n",
    "\n",
    "1. `Element`: The element symbol and ionization for a given row.\n",
    "2. `Observed (nm)`: The vacuum wavelength this line has been observed at.\n",
    "3. `Ritz (nm)`: The Ritz wavelength inferred from the energy levels of the transition.\n",
    "4. `Transition Type`: Indicates the type of transition rules necessary for the transition (i.e., E1, E2, M1, etc.).\n",
    "5. `Rel.`: The qualitative relative intensity of lines.\n",
    "6. `Ei (eV)`: Energy of the lower level (in eV).\n",
    "7. `Ek (eV)`: Energy of the upper level (in eV).\n",
    "8. `Aki`: Emission transition probability\n",
    "9. `gi`: Lower level statistical weight.\n",
    "10. `gk`: Upper level statistical weight.\n",
    "11. `S`: Line strength (electric dipole matrix element squared).\n",
    "12. `Acc.`: 'Accuracy' of the given transition strength (see NIST help doc).\n",
    "13. `Lower level`: Electronic configuration, term symbol, and J-value of the lower level.\n",
    "14. `Upper level`: Electronic configuration, term symbol, and J-value of the upper level.\n",
    "\n",
    "If the user uses the ```keep_flag_columns = True``` argument, __ASDtools__ will attempt to extract and filter out \"flags\" found within the DataFrame. The term \"flag\" refers to any non-numeric entry in numeric columns. These are not filtered out by __astroquery__, meaning they can interfere with using data directly from the NIST ASD without extra filtering. Flags are stored as a list in a new column with the naming convention \"{column}_flags.\" Their meanings are all pulled from the **[NIST ASD Help Page](https://physics.nist.gov/PhysRefData/ASD/Html/lineshelp.html#OUTRELINT)**.\n",
    "\n",
    "- `*`: Intensity is shared by several lines (typically, for multiply classified lines).\n",
    "- `:`: Observed value given is actually the rounded Ritz value, e.g., Ar IV, λ = 443.40 Å.\n",
    "- `-`: Somewhat lower intensity than the value given.\n",
    "- `?`: This level/line may not be real.\n",
    "- `†`: Term assignment of the level is questionable.\n",
    "- `a`: Observed in absorption.\n",
    "- `bl`: Blended with another line that may affect the wavelength and intensity.\"\n",
    "- `b`: Band head.\n",
    "- `B`: Line or feature having large width due to autoionization broadening.\n",
    "- `c`: Complex line.\n",
    "- `d`: Diffuse line.\n",
    "- `D`: Double line.\n",
    "- `E`: Broad due to overexposure in the quoted reference.\n",
    "- `f`: Forbidden line.\n",
    "- `g`: Transition involving a level of the ground term.\n",
    "- `G`: Line position roughly estimated.\n",
    "- `H`: Very hazy line.\n",
    "- `hfs`: Line has hyperfine structure.\n",
    "- `h`: Hazy line (same as 'diffuse').\n",
    "- `i`: Identification uncertain.\n",
    "- `j`: Wavelength smoothed along isoelectronic sequence.\n",
    "- `l`: Shaded to longer wavelengths; NB: This may look like a 'one' at the end of the number!\n",
    "- `m`: Masked by another line (no wavelength measurement).\n",
    "- `p`: Perturbed by a close line. Both wavelength and intensity may be affected.\n",
    "- `q`: Asymmetric line.\n",
    "- `r`: Easily reversed line.\n",
    "- `s`: Shaded to shorter wavelengths.\n",
    "- `t`: Tentatively classified line.\n",
    "- `u`: Unresolved from a close line.\n",
    "- `+x` : The relative positions of the levels within such a system are accurate within experimental uncertainties, but no experimental connection between this system and the other levels of the spectrum has been made.\n",
    "- `+y` : The relative positions of the levels within such a system are accurate within experimental uncertainties, but no experimental connection between this system and the other levels of the spectrum has been made.\n",
    "- `+z` : The relative positions of the levels within such a system are accurate within experimental uncertainties, but no experimental connection between this system and the other levels of the spectrum has been made.\n",
    "- `w`: Wide line.\n",
    "- `x`: Extrapolated wavelength.\n",
    "- `()` : Theoretical value.\n",
    "- `[]` : This level was determined by interpolation or extrapolation of known experimental values or by semiempirical calculation.\n",
    "\n",
    "If you want to see the original columns before any flag extraction was applied, use the ```keep_original_columns = True``` argument. These original columns help check that my filtering functions are working as intended, so please let me know if you find any errors! If you would like a breakdown of every flag found in your data (along w/ their meaning), you can use the following function..."
   ]
  },
  {
   "cell_type": "code",
   "execution_count": 8,
   "id": "17e50454-5f6a-4ac9-87bd-a346639987bb",
   "metadata": {},
   "outputs": [
    {
     "name": "stderr",
     "output_type": "stream",
     "text": [
      "Loading NIST ASD Data: 100%|█████████████████████| 1/1 [00:00<00:00, 149.09it/s]\n",
      "Filtering out flags: 100%|███████████████████████| 8/8 [00:00<00:00, 317.59it/s]"
     ]
    },
    {
     "name": "stdout",
     "output_type": "stream",
     "text": [
      "   Flag: *\n",
      " Counts: 28\n",
      "Meaning: Intensity is shared by several lines (typically, for multiply classified lines).\n",
      "\n",
      "   Flag: bl\n",
      " Counts: 3\n",
      "Meaning: Blended with another line that may affect the wavelength and intensity.\n",
      "\n"
     ]
    },
    {
     "name": "stderr",
     "output_type": "stream",
     "text": [
      "\n"
     ]
    }
   ],
   "source": [
    "lines = asdt.NIST_lines(\"O I\", keep_flag_columns=True)\n",
    "lines.explain_column_flags(\"Rel.\")"
   ]
  },
  {
   "cell_type": "markdown",
   "id": "fae08559-240f-41aa-ba46-2220f66f4964",
   "metadata": {},
   "source": [
    "# ___Loading the \"Complete\" NIST ASD___\n",
    "\n",
    "In order to test the general performance of __ASDtools__, I need to load all NIST ASD data. I do this by making a list of every valid pair (i.e., \"H I,\" \"He II,\" \"He I,\" \"Li I,\" etc.) and using a large wavelength range (0 AA - 1e7 AA) in my query. Although element symbols w/o ionizations (i.e., \"H,\" \"He,\" \"Li,\" etc.) and \"All Spectra\" should produce the same result, I struggled to get the table to format correctly for heavy elements."
   ]
  },
  {
   "cell_type": "code",
   "execution_count": 10,
   "id": "bf55127e-e12b-47cb-a60f-5a45f7a0e21b",
   "metadata": {},
   "outputs": [
    {
     "name": "stderr",
     "output_type": "stream",
     "text": [
      "Loading NIST ASD Data: 100%|████████████████| 7021/7021 [01:35<00:00, 73.35it/s]\n",
      "Filtering out flags: 100%|████████████████████████| 8/8 [00:07<00:00,  1.11it/s]\n"
     ]
    }
   ],
   "source": [
    "### Loads all element symbols from the periodic table\n",
    "el_symbol_list = list(periodictable.elements)\n",
    "\n",
    "### Adds each possible element/ionization pair to list\n",
    "elements = []\n",
    "for e in el_symbol_list:\n",
    "    ionization = el_symbol_list.index(e)\n",
    "    for i in range(0, ionization+1):\n",
    "        elements.append(f\"{e} {roman.toRoman(i+1)}\")\n",
    "\n",
    "### Queries the entire database\n",
    "### NOTE: Only run this if you have a couple hours to kill...\n",
    "        \n",
    "lines_complete = asdt.NIST_lines(elements, keep_flag_columns=True, keep_original_columns=True)"
   ]
  },
  {
   "cell_type": "code",
   "execution_count": 11,
   "id": "4ad8e17d-252a-42f8-bd3c-5f827e60a534",
   "metadata": {},
   "outputs": [
    {
     "data": {
      "text/html": [
       "<div>\n",
       "<style scoped>\n",
       "    .dataframe tbody tr th:only-of-type {\n",
       "        vertical-align: middle;\n",
       "    }\n",
       "\n",
       "    .dataframe tbody tr th {\n",
       "        vertical-align: top;\n",
       "    }\n",
       "\n",
       "    .dataframe thead th {\n",
       "        text-align: right;\n",
       "    }\n",
       "</style>\n",
       "<table border=\"1\" class=\"dataframe\">\n",
       "  <thead>\n",
       "    <tr style=\"text-align: right;\">\n",
       "      <th></th>\n",
       "      <th>Element</th>\n",
       "      <th>Observed_original</th>\n",
       "      <th>Observed (nm)</th>\n",
       "      <th>Ritz_original</th>\n",
       "      <th>Ritz (nm)</th>\n",
       "      <th>Ritz_flags</th>\n",
       "      <th>Transition Type</th>\n",
       "      <th>Rel._original</th>\n",
       "      <th>Rel.</th>\n",
       "      <th>Rel._flags</th>\n",
       "      <th>...</th>\n",
       "      <th>Aki_original</th>\n",
       "      <th>Aki</th>\n",
       "      <th>gi_original</th>\n",
       "      <th>gi</th>\n",
       "      <th>gk_original</th>\n",
       "      <th>gk</th>\n",
       "      <th>S</th>\n",
       "      <th>Acc.</th>\n",
       "      <th>Lower level</th>\n",
       "      <th>Upper level</th>\n",
       "    </tr>\n",
       "  </thead>\n",
       "  <tbody>\n",
       "    <tr>\n",
       "      <th>0</th>\n",
       "      <td>H I</td>\n",
       "      <td>nan</td>\n",
       "      <td>NaN</td>\n",
       "      <td>91.232366</td>\n",
       "      <td>91.232366</td>\n",
       "      <td>None</td>\n",
       "      <td>E1</td>\n",
       "      <td>nan</td>\n",
       "      <td>NaN</td>\n",
       "      <td>None</td>\n",
       "      <td>...</td>\n",
       "      <td>122.58</td>\n",
       "      <td>1.225800e+02</td>\n",
       "      <td>2</td>\n",
       "      <td>2.0</td>\n",
       "      <td>3200</td>\n",
       "      <td>3200.0</td>\n",
       "      <td>1.470110e-07</td>\n",
       "      <td>AAA</td>\n",
       "      <td>1s     | 2S   | 1/2</td>\n",
       "      <td>40     |      |</td>\n",
       "    </tr>\n",
       "    <tr>\n",
       "      <th>1</th>\n",
       "      <td>H I</td>\n",
       "      <td>nan</td>\n",
       "      <td>NaN</td>\n",
       "      <td>91.2353295</td>\n",
       "      <td>91.235330</td>\n",
       "      <td>None</td>\n",
       "      <td>E1</td>\n",
       "      <td>nan</td>\n",
       "      <td>NaN</td>\n",
       "      <td>None</td>\n",
       "      <td>...</td>\n",
       "      <td>139.13</td>\n",
       "      <td>1.391300e+02</td>\n",
       "      <td>2</td>\n",
       "      <td>2.0</td>\n",
       "      <td>3042</td>\n",
       "      <td>3042.0</td>\n",
       "      <td>1.586363e-07</td>\n",
       "      <td>AAA</td>\n",
       "      <td>1s     | 2S   | 1/2</td>\n",
       "      <td>39     |      |</td>\n",
       "    </tr>\n",
       "    <tr>\n",
       "      <th>2</th>\n",
       "      <td>H I</td>\n",
       "      <td>nan</td>\n",
       "      <td>NaN</td>\n",
       "      <td>91.2385303</td>\n",
       "      <td>91.238530</td>\n",
       "      <td>None</td>\n",
       "      <td>E1</td>\n",
       "      <td>nan</td>\n",
       "      <td>NaN</td>\n",
       "      <td>None</td>\n",
       "      <td>...</td>\n",
       "      <td>158.43</td>\n",
       "      <td>1.584300e+02</td>\n",
       "      <td>2</td>\n",
       "      <td>2.0</td>\n",
       "      <td>2888</td>\n",
       "      <td>2888.0</td>\n",
       "      <td>1.715153e-07</td>\n",
       "      <td>AAA</td>\n",
       "      <td>1s     | 2S   | 1/2</td>\n",
       "      <td>38     |      |</td>\n",
       "    </tr>\n",
       "    <tr>\n",
       "      <th>3</th>\n",
       "      <td>H I</td>\n",
       "      <td>nan</td>\n",
       "      <td>NaN</td>\n",
       "      <td>91.2419943</td>\n",
       "      <td>91.241994</td>\n",
       "      <td>None</td>\n",
       "      <td>E1</td>\n",
       "      <td>nan</td>\n",
       "      <td>NaN</td>\n",
       "      <td>None</td>\n",
       "      <td>...</td>\n",
       "      <td>181.03</td>\n",
       "      <td>1.810300e+02</td>\n",
       "      <td>2</td>\n",
       "      <td>2.0</td>\n",
       "      <td>2738</td>\n",
       "      <td>2738.0</td>\n",
       "      <td>1.858239e-07</td>\n",
       "      <td>AAA</td>\n",
       "      <td>1s     | 2S   | 1/2</td>\n",
       "      <td>37     |      |</td>\n",
       "    </tr>\n",
       "    <tr>\n",
       "      <th>4</th>\n",
       "      <td>H I</td>\n",
       "      <td>nan</td>\n",
       "      <td>NaN</td>\n",
       "      <td>91.2457513</td>\n",
       "      <td>91.245751</td>\n",
       "      <td>None</td>\n",
       "      <td>E1</td>\n",
       "      <td>nan</td>\n",
       "      <td>NaN</td>\n",
       "      <td>None</td>\n",
       "      <td>...</td>\n",
       "      <td>207.62</td>\n",
       "      <td>2.076200e+02</td>\n",
       "      <td>2</td>\n",
       "      <td>2.0</td>\n",
       "      <td>2592</td>\n",
       "      <td>2592.0</td>\n",
       "      <td>2.017788e-07</td>\n",
       "      <td>AAA</td>\n",
       "      <td>1s     | 2S   | 1/2</td>\n",
       "      <td>36     |      |</td>\n",
       "    </tr>\n",
       "    <tr>\n",
       "      <th>...</th>\n",
       "      <td>...</td>\n",
       "      <td>...</td>\n",
       "      <td>...</td>\n",
       "      <td>...</td>\n",
       "      <td>...</td>\n",
       "      <td>...</td>\n",
       "      <td>...</td>\n",
       "      <td>...</td>\n",
       "      <td>...</td>\n",
       "      <td>...</td>\n",
       "      <td>...</td>\n",
       "      <td>...</td>\n",
       "      <td>...</td>\n",
       "      <td>...</td>\n",
       "      <td>...</td>\n",
       "      <td>...</td>\n",
       "      <td>...</td>\n",
       "      <td>...</td>\n",
       "      <td>...</td>\n",
       "      <td>...</td>\n",
       "      <td>...</td>\n",
       "    </tr>\n",
       "    <tr>\n",
       "      <th>296912</th>\n",
       "      <td>Mt CIX</td>\n",
       "      <td>nan</td>\n",
       "      <td>NaN</td>\n",
       "      <td>4.18</td>\n",
       "      <td>4.180000</td>\n",
       "      <td>None</td>\n",
       "      <td>E1</td>\n",
       "      <td>nan</td>\n",
       "      <td>NaN</td>\n",
       "      <td>None</td>\n",
       "      <td>...</td>\n",
       "      <td>nan</td>\n",
       "      <td>NaN</td>\n",
       "      <td>2</td>\n",
       "      <td>2.0</td>\n",
       "      <td>2</td>\n",
       "      <td>2.0</td>\n",
       "      <td>NaN</td>\n",
       "      <td></td>\n",
       "      <td>2p     | 2P*  | 1/2</td>\n",
       "      <td>2s     | 2S   | 1/2</td>\n",
       "    </tr>\n",
       "    <tr>\n",
       "      <th>296913</th>\n",
       "      <td>Ds CX</td>\n",
       "      <td>nan</td>\n",
       "      <td>NaN</td>\n",
       "      <td>0.0076794</td>\n",
       "      <td>0.007679</td>\n",
       "      <td>None</td>\n",
       "      <td>E1</td>\n",
       "      <td>nan</td>\n",
       "      <td>NaN</td>\n",
       "      <td>None</td>\n",
       "      <td>...</td>\n",
       "      <td>7.036e+16</td>\n",
       "      <td>7.036000e+16</td>\n",
       "      <td>2</td>\n",
       "      <td>2.0</td>\n",
       "      <td>4</td>\n",
       "      <td>4.0</td>\n",
       "      <td>6.290730e-08</td>\n",
       "      <td>AA</td>\n",
       "      <td>1s     | 2S   | 1/2</td>\n",
       "      <td>2p     | 2P*  | 3/2</td>\n",
       "    </tr>\n",
       "    <tr>\n",
       "      <th>296914</th>\n",
       "      <td>Ds CX</td>\n",
       "      <td>nan</td>\n",
       "      <td>NaN</td>\n",
       "      <td>0.0082645</td>\n",
       "      <td>0.008264</td>\n",
       "      <td>None</td>\n",
       "      <td>E1</td>\n",
       "      <td>nan</td>\n",
       "      <td>NaN</td>\n",
       "      <td>None</td>\n",
       "      <td>...</td>\n",
       "      <td>9.4452e+16</td>\n",
       "      <td>9.445200e+16</td>\n",
       "      <td>2</td>\n",
       "      <td>2.0</td>\n",
       "      <td>2</td>\n",
       "      <td>2.0</td>\n",
       "      <td>5.262890e-08</td>\n",
       "      <td>AA</td>\n",
       "      <td>1s     | 2S   | 1/2</td>\n",
       "      <td>2p     | 2P*  | 1/2</td>\n",
       "    </tr>\n",
       "    <tr>\n",
       "      <th>296915</th>\n",
       "      <td>Ds CX</td>\n",
       "      <td>nan</td>\n",
       "      <td>NaN</td>\n",
       "      <td>0.11164</td>\n",
       "      <td>0.111640</td>\n",
       "      <td>None</td>\n",
       "      <td>E1</td>\n",
       "      <td>nan</td>\n",
       "      <td>NaN</td>\n",
       "      <td>None</td>\n",
       "      <td>...</td>\n",
       "      <td>755950000000000.0</td>\n",
       "      <td>7.559500e+14</td>\n",
       "      <td>2</td>\n",
       "      <td>2.0</td>\n",
       "      <td>4</td>\n",
       "      <td>4.0</td>\n",
       "      <td>2.076567e-06</td>\n",
       "      <td>AA</td>\n",
       "      <td>2s     | 2S   | 1/2</td>\n",
       "      <td>2p     | 2P*  | 3/2</td>\n",
       "    </tr>\n",
       "    <tr>\n",
       "      <th>296916</th>\n",
       "      <td>Ds CX</td>\n",
       "      <td>nan</td>\n",
       "      <td>NaN</td>\n",
       "      <td>3.8</td>\n",
       "      <td>3.800000</td>\n",
       "      <td>None</td>\n",
       "      <td>E1</td>\n",
       "      <td>nan</td>\n",
       "      <td>NaN</td>\n",
       "      <td>None</td>\n",
       "      <td>...</td>\n",
       "      <td>nan</td>\n",
       "      <td>NaN</td>\n",
       "      <td>2</td>\n",
       "      <td>2.0</td>\n",
       "      <td>2</td>\n",
       "      <td>2.0</td>\n",
       "      <td>NaN</td>\n",
       "      <td></td>\n",
       "      <td>2p     | 2P*  | 1/2</td>\n",
       "      <td>2s     | 2S   | 1/2</td>\n",
       "    </tr>\n",
       "  </tbody>\n",
       "</table>\n",
       "<p>296917 rows × 26 columns</p>\n",
       "</div>"
      ],
      "text/plain": [
       "       Element Observed_original  Observed (nm) Ritz_original  Ritz (nm)  \\\n",
       "0          H I               nan            NaN     91.232366  91.232366   \n",
       "1          H I               nan            NaN    91.2353295  91.235330   \n",
       "2          H I               nan            NaN    91.2385303  91.238530   \n",
       "3          H I               nan            NaN    91.2419943  91.241994   \n",
       "4          H I               nan            NaN    91.2457513  91.245751   \n",
       "...        ...               ...            ...           ...        ...   \n",
       "296912  Mt CIX               nan            NaN          4.18   4.180000   \n",
       "296913   Ds CX               nan            NaN     0.0076794   0.007679   \n",
       "296914   Ds CX               nan            NaN     0.0082645   0.008264   \n",
       "296915   Ds CX               nan            NaN       0.11164   0.111640   \n",
       "296916   Ds CX               nan            NaN           3.8   3.800000   \n",
       "\n",
       "       Ritz_flags Transition Type Rel._original  Rel. Rel._flags  ...  \\\n",
       "0            None              E1           nan   NaN       None  ...   \n",
       "1            None              E1           nan   NaN       None  ...   \n",
       "2            None              E1           nan   NaN       None  ...   \n",
       "3            None              E1           nan   NaN       None  ...   \n",
       "4            None              E1           nan   NaN       None  ...   \n",
       "...           ...             ...           ...   ...        ...  ...   \n",
       "296912       None              E1           nan   NaN       None  ...   \n",
       "296913       None              E1           nan   NaN       None  ...   \n",
       "296914       None              E1           nan   NaN       None  ...   \n",
       "296915       None              E1           nan   NaN       None  ...   \n",
       "296916       None              E1           nan   NaN       None  ...   \n",
       "\n",
       "             Aki_original           Aki gi_original   gi  gk_original      gk  \\\n",
       "0                  122.58  1.225800e+02           2  2.0         3200  3200.0   \n",
       "1                  139.13  1.391300e+02           2  2.0         3042  3042.0   \n",
       "2                  158.43  1.584300e+02           2  2.0         2888  2888.0   \n",
       "3                  181.03  1.810300e+02           2  2.0         2738  2738.0   \n",
       "4                  207.62  2.076200e+02           2  2.0         2592  2592.0   \n",
       "...                   ...           ...         ...  ...          ...     ...   \n",
       "296912                nan           NaN           2  2.0            2     2.0   \n",
       "296913          7.036e+16  7.036000e+16           2  2.0            4     4.0   \n",
       "296914         9.4452e+16  9.445200e+16           2  2.0            2     2.0   \n",
       "296915  755950000000000.0  7.559500e+14           2  2.0            4     4.0   \n",
       "296916                nan           NaN           2  2.0            2     2.0   \n",
       "\n",
       "                   S  Acc.          Lower level          Upper level  \n",
       "0       1.470110e-07   AAA  1s     | 2S   | 1/2      40     |      |  \n",
       "1       1.586363e-07   AAA  1s     | 2S   | 1/2      39     |      |  \n",
       "2       1.715153e-07   AAA  1s     | 2S   | 1/2      38     |      |  \n",
       "3       1.858239e-07   AAA  1s     | 2S   | 1/2      37     |      |  \n",
       "4       2.017788e-07   AAA  1s     | 2S   | 1/2      36     |      |  \n",
       "...              ...   ...                  ...                  ...  \n",
       "296912           NaN        2p     | 2P*  | 1/2  2s     | 2S   | 1/2  \n",
       "296913  6.290730e-08    AA  1s     | 2S   | 1/2  2p     | 2P*  | 3/2  \n",
       "296914  5.262890e-08    AA  1s     | 2S   | 1/2  2p     | 2P*  | 1/2  \n",
       "296915  2.076567e-06    AA  2s     | 2S   | 1/2  2p     | 2P*  | 3/2  \n",
       "296916           NaN        2p     | 2P*  | 1/2  2s     | 2S   | 1/2  \n",
       "\n",
       "[296917 rows x 26 columns]"
      ]
     },
     "execution_count": 11,
     "metadata": {},
     "output_type": "execute_result"
    }
   ],
   "source": [
    "### Saves processed dataframe to a compressed file\n",
    "lines_complete.df.to_parquet('NIST_full_processed.gzip', compression='gzip', index=False)\n",
    "df_loaded = pd.read_parquet('NIST_full_processed.gzip')\n",
    "df_loaded"
   ]
  },
  {
   "cell_type": "markdown",
   "id": "cbdad3e0-418a-4886-9f7f-f039574c98a8",
   "metadata": {},
   "source": [
    "# ___Atomic Energies (Ei - Ek)___\n",
    "How do we know the energy associated with a transition? The NIST ASD reports the energy levels of the lower (___Ei___) and upper (___Ek___) states in an electronic transition. Ritz wavelengths are calculated using these energy levels, meaning the Ritz wavelength is only as accurate as the corresponding energy values. If these energy levels are unavailable, no Ritz wavelength is reported. Below, we can see how well the energy differences correspond with each associated Ritz wavelength..."
   ]
  },
  {
   "cell_type": "code",
   "execution_count": 13,
   "id": "5ef572d7-b109-41fe-81a9-4fd1015da701",
   "metadata": {},
   "outputs": [
    {
     "data": {
      "image/png": "[encoded data removed]",
      "text/plain": [
       "<Figure size 500x500 with 1 Axes>"
      ]
     },
     "metadata": {},
     "output_type": "display_data"
    }
   ],
   "source": [
    "from astropy.constants import h,c\n",
    "\n",
    "### Loads the necessary data from our dataframe\n",
    "ritz_wavelengths = np.array(lines_complete.df[\"Ritz (nm)\"])*u.nm\n",
    "lower_energies = np.array(lines_complete.df[\"Ei (eV)\"])*u.eV\n",
    "upper_energies = np.array(lines_complete.df[\"Ek (eV)\"])*u.eV\n",
    "\n",
    "### Calculates the expected wavelength corresponding to the energy difference\n",
    "calculated_wavelengths = (h*c/(upper_energies-lower_energies)).to(u.nm)\n",
    "\n",
    "### Plotting\n",
    "plt.rcParams[\"figure.figsize\"] = (5, 5)\n",
    "plt.scatter(ritz_wavelengths, calculated_wavelengths, color='k', s=1, alpha=0.01)\n",
    "plt.xlabel(\"Ritz Wavelength (nm)\")\n",
    "plt.ylabel(\"Calculated Wavelength (nm)\")\n",
    "plt.xscale('log')\n",
    "plt.yscale('log')\n",
    "plt.show()"
   ]
  },
  {
   "cell_type": "markdown",
   "id": "98582c7a-5f13-4e05-87d8-98102dab609c",
   "metadata": {},
   "source": [
    "Other than a small number of outliers, these two wavelengths seem to agree well!"
   ]
  },
  {
   "cell_type": "markdown",
   "id": "42c977b0-0a91-45a8-a584-7f28d39caa6e",
   "metadata": {},
   "source": [
    "# ___What is an electronic configuration?___\n",
    "There are a few useful terms to remember when describing the configuration of electrons around an atom...\n",
    "\n",
    "- __`shells`:__ Electrons w/ a shared principal quantum number (i.e., n = 1, 2, 3, ...) <br>\n",
    "- __`subshells`:__ Electrons w/ a shared shell and angular momentum quantum number (i.e., s, p, d, f, g, ...) <br>\n",
    "- __`orbitals`:__ Electrons w/ a shared shell, subshell, and magnetic quantum number ($m_l$)\n",
    "\n",
    "Each orbital can hold two electrons due to the **[Pauli exclusion principle](https://en.wikipedia.org/wiki/Pauli_exclusion_principle)**, meaning we can reliably calculate how many electrons a given subshell/shell can hold! However, electrons will fill up each orbital/subshell/shell in a very particular way. To understand this filling order, we need to understand the __[Aufbau principle](https://chem.libretexts.org/Bookshelves/Introductory_Chemistry/Introductory\\_Chemistry\\_(CK-12)/05%3A\\_Electrons\\_in\\_Atoms/5.15%3A\\_Aufbau\\_Principle)__. In particular, the \"diagonal rule,\" which describes how electrons will fill each subshell in an atom's ground-state configuration. Start from the bottom left (at the \"1s\") and follow the arrow to the left. Then, start back up at the next highest arrow. This visual trick allows us to predict how electrons sort into each subshell."
   ]
  },
  {
   "cell_type": "code",
   "execution_count": 16,
   "id": "551a737c-8e57-4d47-ab91-a54ff232a13f",
   "metadata": {},
   "outputs": [
    {
     "data": {
      "image/png": "[encoded data removed]",
      "text/plain": [
       "<Figure size 400x600 with 1 Axes>"
      ]
     },
     "metadata": {},
     "output_type": "display_data"
    }
   ],
   "source": [
    "asdt.draw_aufbau_diagram(N_max=5)"
   ]
  },
  {
   "cell_type": "markdown",
   "id": "8f7485b6-814d-4461-8045-4cd3d15bcf8f",
   "metadata": {},
   "source": [
    "Notice how some subshells with a higher _n_ sometimes fill before subshells of a lower _n_ (i.e., 4s fills before 3d). These subshells (despite having a larger _n_) have a lower associated energy. Electrons will always fill the lowest-energy subshell, regardless of the principal quantum number! Finding the exact energies of each subshell is tricky, and **[analytical solutions are only known for the lightest of elements](https://en.wikipedia.org/wiki/Energy_level)**.\n",
    "\n",
    "I have made another function that explicitly writes out the filling order predicted by the Aufbau diagram. If you check the following output against the Aufbau diagram above, you should see that they match!"
   ]
  },
  {
   "cell_type": "code",
   "execution_count": 18,
   "id": "4f401323-d932-4070-8a5a-fc7754284054",
   "metadata": {},
   "outputs": [
    {
     "data": {
      "text/plain": [
       "'1s.2s.2p.3s.3p.4s.3d.4p.5s'"
      ]
     },
     "execution_count": 18,
     "metadata": {},
     "output_type": "execute_result"
    }
   ],
   "source": [
    "asdt.find_filling_order(max_level=5, joined=True)"
   ]
  },
  {
   "cell_type": "markdown",
   "id": "4656d053-018a-4178-b248-2ee323d78416",
   "metadata": {},
   "source": [
    "What if we wanted to know the ground-state electronic configuration of a given element and ionization? To do this, we need to know...\n",
    "\n",
    "1. The total number of available electrons\n",
    "2. How many electrons can fill into each subshell\n",
    "\n",
    "The first of these two is simple to calculate...\n",
    "\n",
    "\\begin{equation}\n",
    "(\\textrm{\\# of available electrons}) = (\\textrm{\\# of protons}) - (\\textrm{\\# of ionized electrons})\n",
    "\\end{equation}\n",
    "\n",
    "The electron capacity of each subshell is also fairly straightforward. Each subsequent subshell has two additional orbitals. So...\n",
    "\n",
    "| Orbital | Total Orbitals | Total e |\n",
    "| :-: | :-: | :-: |\n",
    "| s | 1 | 2 |\n",
    "| p | 3 | 6 |\n",
    "| d | 5 | 10 |\n",
    "| f | 7 | 14 |\n",
    "| $\\vdots$ | $\\vdots$ | $\\vdots$ |\n",
    "\n",
    "The following function uses this logic to convert elements (with formatting identical to the NIST ASD's) into a ground-state configuration. Note, this function allows for **[abbreviated notation](https://preparatorychemistry.com/Bishop_abbreviated_electron_configurations_help.htm)** and two different sorting schemes (\"fill order\" and \"principle\"). The NIST ASD defaults to \"principle\" sorting."
   ]
  },
  {
   "cell_type": "code",
   "execution_count": 20,
   "id": "0e2003bf-7ae4-40b0-8fd2-84460db7e589",
   "metadata": {},
   "outputs": [
    {
     "data": {
      "text/plain": [
       "'[He]2s2.2p4'"
      ]
     },
     "execution_count": 20,
     "metadata": {},
     "output_type": "execute_result"
    }
   ],
   "source": [
    "asdt.find_electronic_config(\"O I\", abbreviate=True, sortby=\"fill order\")"
   ]
  },
  {
   "cell_type": "markdown",
   "id": "b4f571c9-e985-4953-9903-707710bfaf0e",
   "metadata": {},
   "source": [
    "Finally, it may be useful to have an automated way to tell whether a subshell is filled..."
   ]
  },
  {
   "cell_type": "code",
   "execution_count": 22,
   "id": "af708d7f-f66b-4057-b26a-2d2efb1ca833",
   "metadata": {},
   "outputs": [
    {
     "name": "stdout",
     "output_type": "stream",
     "text": [
      "Subshell '5p6' is filled: True\n",
      "Subshell '5p5' is filled: False\n"
     ]
    }
   ],
   "source": [
    "config1 = asdt.find_electronic_config(\"Xe I\", abbreviate=True, sortby=\"fill order\").split(\".\")\n",
    "config2 = asdt.find_electronic_config(\"Xe II\", abbreviate=True, sortby=\"fill order\").split(\".\")\n",
    "\n",
    "print(f\"Subshell '{config1[-1]}' is filled: {asdt.is_subshell_filled(config1[-1])}\")\n",
    "print(f\"Subshell '{config2[-1]}' is filled: {asdt.is_subshell_filled(config2[-1])}\")"
   ]
  },
  {
   "cell_type": "markdown",
   "id": "a9ccde0c-1aaf-4975-9e6d-b87bcbee75ed",
   "metadata": {},
   "source": [
    "If we look at the ASD's electronic configurations for heavy elements, there appears to be an odd format that doesn't follow the conventions laid out above. Take the following configuration data for \"Ni I,\" for example. In addition to traditional subshells, there are terms contained within parentheses. These relate to another way of describing atoms: ___term symbols___."
   ]
  },
  {
   "cell_type": "code",
   "execution_count": 24,
   "id": "2d62aa1e-ed3b-47de-a4ab-c48d0bab7398",
   "metadata": {},
   "outputs": [
    {
     "name": "stderr",
     "output_type": "stream",
     "text": [
      "Loading NIST ASD Data: 100%|█████████████████████| 1/1 [00:00<00:00, 179.09it/s]\n",
      "Filtering out flags: 100%|███████████████████████| 8/8 [00:00<00:00, 453.93it/s]\n"
     ]
    },
    {
     "data": {
      "text/plain": [
       "array(['3d10                 | 1S   | 0',\n",
       "       '3d8.(1D).4s.4p.(3P*) | 3F*  | 3',\n",
       "       '3d8.(1D).4s2         | 1D   | 2',\n",
       "       '3d8.(1G).4s2         | 1G   | 4',\n",
       "       '3d8.(3F).4s.4p.(1P*) | 3F*  | 4',\n",
       "       '3d8.(3F).4s.4p.(1P*) | 3G*  | 4',\n",
       "       '3d8.(3F).4s.4p.(3P*) | 1D*  | 2',\n",
       "       '3d8.(3F).4s.4p.(3P*) | 1F*  | 3',\n",
       "       '3d8.(3F).4s.4p.(3P*) | 1G*  | 4',\n",
       "       '3d8.(3F).4s.4p.(3P*) | 3D*  | 1'], dtype=object)"
      ]
     },
     "execution_count": 24,
     "metadata": {},
     "output_type": "execute_result"
    }
   ],
   "source": [
    "lines = asdt.NIST_lines([\"Ni I\"], keep_flag_columns=True)\n",
    "np.unique(lines.df[\"Lower level\"])[:10]"
   ]
  },
  {
   "cell_type": "markdown",
   "id": "de3bb77b-1576-4b9c-9340-1756fb0ea31b",
   "metadata": {},
   "source": [
    "# ___What are term symbols?___\n",
    "\n",
    "In quantum mechanics, there are **[four quantum numbers that completely describe an atom](https://chem.libretexts.org/Bookshelves/Physical_and_Theoretical_Chemistry_Textbook_Maps/Supplemental_Modules_(Physical_and_Theoretical_Chemistry)/Quantum_Mechanics/10%3A_Multi-electron_Atoms/Quantum_Numbers_for_Atoms)**.\n",
    "\n",
    "1. Principle Quantum Number $(n)$ <br>\n",
    "2. Orbital Angular Momentum $(l)$ <br>\n",
    "3. Magnetic Quantum Number $(m_l)$ <br>\n",
    "4. Electron Spin Quantum Number $(m_s)$ <br>\n",
    "\n",
    "Although we could technically explicitly write out each number for every atomic configuration, term symbols provide a systematic and brief way to describe all four numbers. If you have never encountered term symbols before, please read **[this helpful page](https://chem.libretexts.org/Courses/Pacific_Union_College/Quantum_Chemistry/08%3A_Multielectron_Atoms/8.08%3A_Term_Symbols_Gives_a_Detailed_Description_of_an_Electron_Configuration)** that provides an in-depth explanation of them. We need to find all possible values of the above quantum numbers to construct a term symbol for an electronic configuration. Assuming there are _n_ possible ways an electron could be positioned in a subshell, and there are _k_ available electrons, the total number of unique configurations (for a single subshell) is given by the binomial coefficient...\n",
    "\n",
    "\\begin{equation}\n",
    "\\binom{n}{k} = \\frac{n!}{k!(n-k)!}.\n",
    "\\end{equation}\n",
    "\n",
    "However, some of these configurations will produce the same term symbols. This raises an important point: ___\"term symbols are not an exact description of how electrons are configured in a subshell.\"___ So, how do we find all the possible term symbols associated with a given electronic configuration? I chose to implement a method outlined in **[this Wikipedia article](https://en.wikipedia.org/wiki/Term_symbol)**, and checked the output against an **[online calculator](https://umop.net/spectra/term_calc.php?config=&e=B+&i=0)**. Below, we can see every possible term symbol for a given electronic configuration...\n",
    "\n",
    "__NOTE:__ Technically, the \"generate_term_symbols\" function uses a slightly modified version of the method described above but is rooted in the same logic. "
   ]
  },
  {
   "cell_type": "code",
   "execution_count": 26,
   "id": "fafa4eee-60ef-4662-94b9-942d35890127",
   "metadata": {},
   "outputs": [
    {
     "name": "stdout",
     "output_type": "stream",
     "text": [
      "Term Symbols:\n",
      "-------------\n"
     ]
    },
    {
     "data": {
      "text/latex": [
       "$^1S_{0}$"
      ],
      "text/plain": [
       "<IPython.core.display.Latex object>"
      ]
     },
     "metadata": {},
     "output_type": "display_data"
    },
    {
     "data": {
      "text/latex": [
       "$^3P_{0, 1, 2}$"
      ],
      "text/plain": [
       "<IPython.core.display.Latex object>"
      ]
     },
     "metadata": {},
     "output_type": "display_data"
    },
    {
     "data": {
      "text/latex": [
       "$^1D_{2}$"
      ],
      "text/plain": [
       "<IPython.core.display.Latex object>"
      ]
     },
     "metadata": {},
     "output_type": "display_data"
    }
   ],
   "source": [
    "config = asdt.find_electronic_config(\"O I\")\n",
    "asdt.generate_term_symbols(config)"
   ]
  },
  {
   "cell_type": "markdown",
   "id": "c0f97ba9-5013-4712-9858-3021ce13a4d8",
   "metadata": {},
   "source": [
    "If you compare the generated term symbols for each configuration of \"Ni I\" against the NIST ASD output from above, you should find a match for each line given in the database! However, many term symbols are listed here that are not represented in the NIST ASD. **Some quantum numbers have not been observed in a laboratory setting, even though the underlying electronic microstates are allowed.** You should note that NIST's ASD also has term symbols interspersed throughout the electronic configuration (i.e., 3d8.(3F).4s.4p.(1P*)). These intermediate term symbols represent the term symbol of a small section of the electronic configuration (i.e., 3F for 3d8, 1P* for 4s.4p). In some cases, NIST uses a different format for term symbols. Let's look at \"Xe I,\" for example..."
   ]
  },
  {
   "cell_type": "code",
   "execution_count": 28,
   "id": "e330ac81-f0a3-4dd8-b3be-98ae0cb46332",
   "metadata": {},
   "outputs": [
    {
     "name": "stderr",
     "output_type": "stream",
     "text": [
      "Loading NIST ASD Data: 100%|█████████████████████| 1/1 [00:00<00:00, 122.78it/s]\n",
      "Filtering out flags: 100%|███████████████████████| 8/8 [00:00<00:00, 246.58it/s]\n"
     ]
    },
    {
     "data": {
      "text/plain": [
       "array(['5p5.(2P*<1/2>).5d  | 2[3/2]*  | 1',\n",
       "       '5p5.(2P*<1/2>).5d  | 2[3/2]*  | 2',\n",
       "       '5p5.(2P*<1/2>).5d  | 2[5/2]*  | 2',\n",
       "       '5p5.(2P*<1/2>).5d  | 2[5/2]*  | 3',\n",
       "       '5p5.(2P*<1/2>).6p  | 2[1/2]   | 0',\n",
       "       '5p5.(2P*<1/2>).6p  | 2[1/2]   | 1',\n",
       "       '5p5.(2P*<1/2>).6p  | 2[3/2]   | 1',\n",
       "       '5p5.(2P*<1/2>).6p  | 2[3/2]   | 2',\n",
       "       '5p5.(2P*<1/2>).6s  | 2[1/2]*  | 0',\n",
       "       '5p5.(2P*<1/2>).6s  | 2[1/2]*  | 1'], dtype=object)"
      ]
     },
     "execution_count": 28,
     "metadata": {},
     "output_type": "execute_result"
    }
   ],
   "source": [
    "lines = asdt.NIST_lines([\"Xe I\"], keep_flag_columns=True)\n",
    "np.unique(lines.df[\"Lower level\"])[:10]"
   ]
  },
  {
   "cell_type": "markdown",
   "id": "af2d231b-f1ab-43b2-ac79-62261c9f9196",
   "metadata": {},
   "source": [
    "We can see that instead of having {2S+1}L, they have something with brackets and no letter. This corresponds with a different coupling scheme, which we will not discuss in this notebook. Just note that most term symbols in the ASD assume an LS-coupling schema."
   ]
  },
  {
   "cell_type": "markdown",
   "id": "2e359a07-1d9a-4530-a9c1-9aac13f92e9a",
   "metadata": {},
   "source": [
    "# ___Grotrian Diagrams___"
   ]
  },
  {
   "cell_type": "markdown",
   "id": "35a70bbf-c184-44ee-9484-ddfae7740071",
   "metadata": {},
   "source": [
    "The final visualization tool available produces __Grotrian Diagrams__. These diagrams allow a quick visualization of the types of transitions that are possible for a given element. Each line represents a single transition in the NIST ASD, and the color describes the transition at play. For elements with/ several multiplicities (i.e., singlets, doublets, etc.), each multiplicity will be separated by a faint gray line. This visualization tool is the roughest, and I intend to improve its functionality in future iterations."
   ]
  },
  {
   "cell_type": "code",
   "execution_count": 32,
   "id": "53776c26-4433-42b1-971c-7ff8afb1f73b",
   "metadata": {},
   "outputs": [
    {
     "name": "stderr",
     "output_type": "stream",
     "text": [
      "Loading NIST ASD Data: 100%|█████████████████████| 1/1 [00:00<00:00, 200.66it/s]\n",
      "Filtering out flags: 100%|███████████████████████| 8/8 [00:00<00:00, 505.47it/s]\n"
     ]
    },
    {
     "data": {
      "image/png": "[encoded data removed]",
      "text/plain": [
       "<Figure size 1000x500 with 1 Axes>"
      ]
     },
     "metadata": {},
     "output_type": "display_data"
    }
   ],
   "source": [
    "asdt.draw_grotrian_diagram(\"H I\")"
   ]
  },
  {
   "cell_type": "code",
   "execution_count": null,
   "id": "d0864896-2a86-4136-ad84-d7464f57dd53",
   "metadata": {},
   "outputs": [],
   "source": []
  }
 ],
 "metadata": {
  "kernelspec": {
   "display_name": "Python [conda env:base] *",
   "language": "python",
   "name": "conda-base-py"
  },
  "language_info": {
   "codemirror_mode": {
    "name": "ipython",
    "version": 3
   },
   "file_extension": ".py",
   "mimetype": "text/x-python",
   "name": "python",
   "nbconvert_exporter": "python",
   "pygments_lexer": "ipython3",
   "version": "3.12.7"
  }
 },
 "nbformat": 4,
 "nbformat_minor": 5
}
