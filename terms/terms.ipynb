{
 "cells": [
  {
   "cell_type": "markdown",
   "id": "7421ad8c-9942-4279-a3e3-0cfedb9b7504",
   "metadata": {},
   "source": [
    "When discussing the properties of a given atom, it can be tricky to represent all the relevant quantum-mechanical information. In this section, we will explore a common convention for compactly representing an atom's quantum numbers."
   ]
  },
  {
   "cell_type": "code",
   "execution_count": 231,
   "id": "7aa88350-03a9-482d-881d-a3007123246e",
   "metadata": {},
   "outputs": [],
   "source": [
    "import ASDtools as asdt"
   ]
  },
  {
   "cell_type": "markdown",
   "id": "cfdc7fac-827f-4d26-b072-3e99af990269",
   "metadata": {},
   "source": [
    "## **What are term symbols?**\n",
    "\n",
    "In quantum mechanics, there are **<a href=\"https://chem.libretexts.org/Bookshelves/Physical_and_Theoretical_Chemistry_Textbook_Maps/Supplemental_Modules_(Physical_and_Theoretical_Chemistry)/Quantum_Mechanics/10%3A_Multi-electron_Atoms/Quantum_Numbers_for_Atoms\" target=\"_blank\">four quantum numbers that completely describe an atom</a>**.\n",
    "\n",
    "+ Principle Quantum Number <br>\n",
    "+ Orbital Angular Momentum <br>\n",
    "+ Magnetic Quantum Number <br>\n",
    "+ Electron Spin Quantum Number <br>\n",
    "\n",
    "Although we could technically explicitly write out each number for every atomic configuration, term symbols provide a systematic and brief way to describe all four numbers. If you have never encountered term symbols before, please read **<a href=\"https://chem.libretexts.org/Courses/Pacific_Union_College/Quantum_Chemistry/08%3A_Multielectron_Atoms/8.08%3A_Term_Symbols_Gives_a_Detailed_Description_of_an_Electron_Configuration\" target=\"_blank\">this helpful page</a>** that provides an in-depth explanation of them. Generally, term symbols take the following form...\n",
    "\n",
    "$$ {\\Huge ^\\text{2S+1}\\text{L}_\\text{J}} $$\n",
    "\n",
    "where **S** is the multiplicity, **L** is the total orbital angular momentum, and **J** is the total angular momentum. We need to find all possible values of the above quantum numbers to construct a term symbol for an electronic configuration. Assuming there are _n_ possible ways an electron could be positioned in a subshell, and there are _k_ available electrons, the total number of unique configurations (for a single subshell) is given by the binomial coefficient...\n",
    "\n",
    "\\begin{equation}\n",
    "\\binom{n}{k} = \\frac{n!}{k!(n-k)!}.\n",
    "\\end{equation}\n",
    "\n",
    "However, some of these configurations will produce the same term symbols. This raises an important point: **\"term symbols are not an exact description of how electrons are configured in a subshell.\"** So, how do we find all the possible term symbols associated with a given electronic configuration? I chose to implement a method outlined in **<a href=\"https://en.wikipedia.org/wiki/Term_symbol\" target=\"_blank\">this Wikipedia article</a>**, and checked the output against an **<a href=\"https://umop.net/spectra/term_calc.php?config=&e=B+&i=0\" target=\"_blank\">online calculator</a>**. First, we need to write out the value of ML and MS for each possible electron configuration. Let's walk through an example for non-ionized Carbon (1s2.2s2.2p2). Below is a table that finds ML and MS for all possible configurations.\n",
    "\n",
    "$$\n",
    "\\begin{aligned}\n",
    "&\\begin{array}{|ccc|cc|}\n",
    "\\hline\n",
    "\\textbf { +1 } & \\textbf { 0 } & \\textbf { -1 } & \\text { $M_L$ } & \\text { $M_S$ }\\\\\n",
    "\\hline\n",
    "\\uparrow & \\uparrow & & 1 & 1\\\\\n",
    "\\uparrow & & \\uparrow & 0 & 1\\\\\n",
    " & \\uparrow & \\uparrow & -1 & 1\\\\\n",
    "\\downarrow & \\downarrow & & 1 & -1\\\\\n",
    "\\downarrow & & \\downarrow & 0 & -1\\\\\n",
    " & \\downarrow & \\downarrow & -1 & -1\\\\\n",
    "\\uparrow \\downarrow & & & 2 & 0\\\\\n",
    "\\uparrow & \\downarrow & & 1 & 0\\\\\n",
    "\\uparrow & & \\downarrow & 0 & 0\\\\\n",
    "\\downarrow & \\uparrow & & 1 & 0\\\\\n",
    " & \\uparrow \\downarrow& & 0 & 0\\\\\n",
    " & \\uparrow & \\downarrow & -1 & 0\\\\\n",
    "\\downarrow & & \\uparrow & 0 & 0\\\\\n",
    " & \\downarrow & \\uparrow & -1 & 0\\\\\n",
    " & & \\uparrow \\downarrow & -2 & 0\\\\\n",
    "\\hline\n",
    "\\end{array}\n",
    "\\end{aligned}\n",
    "$$\n",
    "\n",
    "If we count up the number of configurations that produce each ML and MS, we get the following matrix.\n",
    "\n",
    "$$\n",
    "\\begin{aligned}\n",
    "&\\begin{array}{|c|ccc|}\n",
    "\\hline\n",
    "& \\textbf { +1 } & \\textbf { 0 } & \\textbf { -1 }\\\\\n",
    "\\hline\n",
    "\\textbf { +2 } & 0 & 1 & 0 \\\\\n",
    "\\textbf { +1 } & 1 & 2 & 1 \\\\\n",
    "\\textbf { 0 } & 1 & 3 & 1 \\\\\n",
    "\\textbf { -1 } & 1 & 2 & 1 \\\\\n",
    "\\textbf { -2 } & 0 & 1 & 0 \\\\\n",
    "\\hline\n",
    "\\end{array}\n",
    "\\end{aligned}\n",
    "$$\n",
    "\n",
    "Each unique term symbol is represented by a sub-matrix of all ones, meaning we can calculate each possible term symbol by finding the minimal set of sub-matrices that comprise the original state matrix. __ASDtools__ achieves this by iteratively finding the largest non-zero submatrix within a calculated state matrix. Then, it converts these sub-matrices into a dataframe of term symbols that are displayed using iPython. An example output is shown below."
   ]
  },
  {
   "cell_type": "code",
   "execution_count": 242,
   "id": "1b2292d6-cb3f-4867-822f-5538489a1ba0",
   "metadata": {},
   "outputs": [
    {
     "name": "stdout",
     "output_type": "stream",
     "text": [
      "Term Symbols:\n",
      "-------------\n"
     ]
    },
    {
     "data": {
      "text/latex": [
       "$^1S_{0}$"
      ],
      "text/plain": [
       "<IPython.core.display.Latex object>"
      ]
     },
     "metadata": {},
     "output_type": "display_data"
    },
    {
     "data": {
      "text/latex": [
       "$^3P_{0, 1, 2}$"
      ],
      "text/plain": [
       "<IPython.core.display.Latex object>"
      ]
     },
     "metadata": {},
     "output_type": "display_data"
    },
    {
     "data": {
      "text/latex": [
       "$^1D_{2}$"
      ],
      "text/plain": [
       "<IPython.core.display.Latex object>"
      ]
     },
     "metadata": {},
     "output_type": "display_data"
    }
   ],
   "source": [
    "asdt.generate_term_symbols(\"1s2.2s2.2p2\")"
   ]
  },
  {
   "cell_type": "markdown",
   "id": "4b79bb43-ad15-4261-b5b5-a1b6e3da1616",
   "metadata": {},
   "source": [
    "## **A Small Wrinkle**\n",
    "Technically, the method outlined above only applies under a handful of assumptions...\n",
    "\n",
    "1. Only one subhsell is unfilled\n",
    "2. LS-coupling is the appropriate schema for a given configuration\n",
    "\n",
    "The first of these are easy to address with a small modification to the method outlined above. If we allow multiple subshells to remain unfilled, then the total number of configurations is given by... \n",
    "\n",
    "\\begin{equation}\n",
    "\\binom{n_1}{k_1} * \\binom{n_2}{k_2} = \\frac{n_1!}{k_1!(n_1-k_1)!} * \\frac{n_2!}{k_2!(n_2-k_2)!}\n",
    "\\end{equation}\n",
    "\n",
    "where *k* and *n* are specific to each unfilled subshell. By calculating the quantum numbers for each configuration across all unfilled subshells, we can produce a state matrix that works the same way as above. The function from above automatically handles this extra bit of logic."
   ]
  },
  {
   "cell_type": "code",
   "execution_count": 256,
   "id": "c67347bc-7812-404c-a763-e0d7280bd339",
   "metadata": {},
   "outputs": [
    {
     "name": "stdout",
     "output_type": "stream",
     "text": [
      "Term Symbols:\n",
      "-------------\n"
     ]
    },
    {
     "data": {
      "text/latex": [
       "$^2S_{1/2}$"
      ],
      "text/plain": [
       "<IPython.core.display.Latex object>"
      ]
     },
     "metadata": {},
     "output_type": "display_data"
    },
    {
     "data": {
      "text/latex": [
       "$^2P_{1/2, 3/2}$"
      ],
      "text/plain": [
       "<IPython.core.display.Latex object>"
      ]
     },
     "metadata": {},
     "output_type": "display_data"
    },
    {
     "data": {
      "text/latex": [
       "$^4P_{1/2, 3/2, 5/2}$"
      ],
      "text/plain": [
       "<IPython.core.display.Latex object>"
      ]
     },
     "metadata": {},
     "output_type": "display_data"
    },
    {
     "data": {
      "text/latex": [
       "$^2D_{3/2, 5/2}$"
      ],
      "text/plain": [
       "<IPython.core.display.Latex object>"
      ]
     },
     "metadata": {},
     "output_type": "display_data"
    },
    {
     "data": {
      "text/latex": [
       "$^2F_{5/2, 7/2}$"
      ],
      "text/plain": [
       "<IPython.core.display.Latex object>"
      ]
     },
     "metadata": {},
     "output_type": "display_data"
    },
    {
     "data": {
      "text/latex": [
       "$^4F_{3/2, 5/2, 7/2, 9/2}$"
      ],
      "text/plain": [
       "<IPython.core.display.Latex object>"
      ]
     },
     "metadata": {},
     "output_type": "display_data"
    },
    {
     "data": {
      "text/latex": [
       "$^2G_{7/2, 9/2}$"
      ],
      "text/plain": [
       "<IPython.core.display.Latex object>"
      ]
     },
     "metadata": {},
     "output_type": "display_data"
    }
   ],
   "source": [
    "asdt.generate_term_symbols(\"1s2.2s1.2d2\")"
   ]
  },
  {
   "cell_type": "markdown",
   "id": "a8745426-912f-4dfe-9797-5eb97c00a917",
   "metadata": {},
   "source": [
    "The assumption about LS-coupling is much trickier to account for. For the majority of NIST's spectral lines, this assumption is accurate, so the above function should work. However, for some lines, the reported term symbol uses a different formatting that corresponds with a different coupling schema. Currently, **ASDtools** has no way of producing term symbols in these situations."
   ]
  }
 ],
 "metadata": {
  "kernelspec": {
   "display_name": "Python [conda env:base] *",
   "language": "python",
   "name": "conda-base-py"
  },
  "language_info": {
   "codemirror_mode": {
    "name": "ipython",
    "version": 3
   },
   "file_extension": ".py",
   "mimetype": "text/x-python",
   "name": "python",
   "nbconvert_exporter": "python",
   "pygments_lexer": "ipython3",
   "version": "3.12.7"
  }
 },
 "nbformat": 4,
 "nbformat_minor": 5
}
